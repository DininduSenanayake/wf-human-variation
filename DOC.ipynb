{
 "cells": [
  {
   "cell_type": "markdown",
   "id": "94c88d97-18c0-42b4-a1c5-1ab9a6574f0a",
   "metadata": {},
   "source": [
    "#### Pull all the containers required for https://github.com/epi2me-labs/wf-human-variation\n",
    "\n",
    "```\n",
    "$ singularity pull wf_human_variation_methyl.simg docker://ontresearch/wf-human-variation-methyl:latest\n",
    "$ singularity pull wf-human-variation-sv.simg docker://ontresearch/wf-human-variation-sv:latest\n",
    "$ singularity pull wf-human-variantion-snp.simg docker://ontresearch/wf-human-snp:latest\n",
    "$ singularity pull wf-human-variation_base.simgdocker://ontresearch/wf-human-variation:latest\n",
    "$ singularity pull dorado.simg  docker://nanoporetech/dorado:latest\n",
    "\n",
    "# create .md5 sum for future verification\n",
    "$ md5sum *.simg > wfhv_simg_checkcums.md5\n",
    "\n",
    "# move images to a central repo andn verify \n",
    "$ cp /path/to/*.simg /opt/nesi/containers/epi2me/wf-human-variation\n",
    "$ cp /path/to/wfhv_simg_checksums.md5 /opt/nesi/containers/epi2me/wf-human-variation && $ md5sum  -c wfhv_simg_checksums.md5 \n",
    "\n",
    "dorado.simg: OK\n",
    "wf-human-variantion-snp.simg: OK\n",
    "wf-human-variation_base.simg: OK\n",
    "wf_human_variation_methyl.simg: OK\n",
    "wf-human-variation-sv.simg: OK\n",
    "\n",
    "```"
   ]
  },
  {
   "cell_type": "code",
   "execution_count": null,
   "id": "39fe0863-f8d5-4292-8810-6186dd831d3f",
   "metadata": {},
   "outputs": [],
   "source": []
  }
 ],
 "metadata": {
  "kernelspec": {
   "display_name": "Python 3.10.5 (gimkl-2022a)",
   "language": "python",
   "name": "python3105-gimkl-2022a"
  },
  "language_info": {
   "codemirror_mode": {
    "name": "ipython",
    "version": 3
   },
   "file_extension": ".py",
   "mimetype": "text/x-python",
   "name": "python",
   "nbconvert_exporter": "python",
   "pygments_lexer": "ipython3",
   "version": "3.10.5"
  },
  "widgets": {
   "application/vnd.jupyter.widget-state+json": {
    "state": {},
    "version_major": 2,
    "version_minor": 0
   }
  }
 },
 "nbformat": 4,
 "nbformat_minor": 5
}
